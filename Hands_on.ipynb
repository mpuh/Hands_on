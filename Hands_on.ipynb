{
 "cells": [
  {
   "cell_type": "code",
   "execution_count": null,
   "metadata": {},
   "outputs": [],
   "source": [
    "%matplotlib inline\n",
    "import xarray as xr\n",
    "import numpy as np\n",
    "import datetime as dt\n",
    "import matplotlib.pyplot as plt\n",
    "import cartopy\n",
    "import cartopy.geodesic\n",
    "import shapely\n",
    "import cartopy.crs as ccrs\n",
    "import cartopy.feature\n",
    "from matplotlib.colors import LogNorm\n",
    "from mpl_toolkits.axes_grid1 import make_axes_locatable\n",
    "import matplotlib.axes as maxes\n",
    "import warnings\n",
    "warnings.filterwarnings('ignore')"
   ]
  },
  {
   "cell_type": "code",
   "execution_count": null,
   "metadata": {},
   "outputs": [],
   "source": [
    "def plot_background_map():\n",
    "    lat1, lat2, lon1, lon2 = 47.093, 50.485,  4.40, 14.368\n",
    "    rp = ccrs.RotatedPole(pole_longitude=-170,\n",
    "                          pole_latitude=40,\n",
    "                          globe=ccrs.Globe(semimajor_axis=6370000,\n",
    "                                           semiminor_axis=6370000))\n",
    "    pc = ccrs.PlateCarree()\n",
    "\n",
    "    ax = plt.axes(projection=rp)\n",
    "    resol = '50m'  # use data at this scale\n",
    "    ax.coastlines(resol, linewidth=0.8)\n",
    "    bodr = cartopy.feature.NaturalEarthFeature(category='cultural', name='admin_0_boundary_lines_land', scale=resol, facecolor='none', alpha=0.7)\n",
    "    land = cartopy.feature.NaturalEarthFeature('physical', 'land', scale=resol, edgecolor='k', facecolor=cartopy.feature.COLORS['land'])\n",
    "    ocean = cartopy.feature.NaturalEarthFeature('physical', 'ocean', scale=resol, edgecolor='none', facecolor=cartopy.feature.COLORS['water'])\n",
    "    ax.add_feature(land, facecolor='beige', alpha=0.1)\n",
    "    ax.add_feature(ocean, linewidth=0.2, alpha=0.1)\n",
    "    ax.add_feature(bodr, linestyle='-', edgecolor='k', alpha=1)\n",
    "#     ax.set_extent((-3.74723296300748, 3.5357004661247644, -3.205501464193482, 5.256409405113779), crs=rp)\n",
    "    return ax\n",
    "\n",
    "def colorbar_vert(mappable, fig, ax, labels=None, orient='vertical'):\n",
    "    fig = ax.figure\n",
    "    divider = make_axes_locatable(ax)\n",
    "    cax = divider.append_axes(\"right\", size=\"5%\", pad=0.05, axes_class=maxes.Axes)\n",
    "    if labels is None:\n",
    "        return fig.colorbar(mappable, cax=cax, orientation=orient, format='%.1f')\n",
    "    else:\n",
    "        return plt.colorbar(mappable, cax=cax, ticks=labels, orientation=orient)"
   ]
  },
  {
   "cell_type": "code",
   "execution_count": null,
   "metadata": {},
   "outputs": [],
   "source": [
    "def read_psp(directory):\n",
    "    xdata_mems = []\n",
    "    for mem in range(1,21):\n",
    "        try:\n",
    "            filename = '/project/meteo/work/M.Puh/PhD/trial_dwd/'+str(directory)+'/'+str(directory)+'00_pspa5_mem{0}.nc'.format(mem)\n",
    "            xdata_mems.append(xr.open_dataset(filename))\n",
    "        except:\n",
    "            filename = '/project/meteo/work/M.Puh/PhD/trial_dwd/'+str(directory)+'/'+str(directory)+'00_psp_mem{0}.nc'.format(mem)\n",
    "            xdata_mems.append(xr.open_dataset(filename))\n",
    "    xdata = xr.concat(xdata_mems, \"ens\")\n",
    "    return xdata\n",
    "\n",
    "def read_ref(directory):\n",
    "    xdata_mems = []\n",
    "    for mem in range(1,21):\n",
    "        filename = '/project/meteo/work/M.Puh/PhD/trial_dwd/tau_c_data/'+str(directory)+'/'+str(directory)+'00_ref_mem{0}.nc'.format(mem)\n",
    "        xdata_mems.append(xr.open_dataset(filename))\n",
    "    xdata = xr.concat(xdata_mems, \"ens\")\n",
    "    return xdata\n",
    "\n",
    "def set_domain(prec, grid):\n",
    "    lo1, lo2, la1, la2 = (-3.81372049983167, 2.9758399765944414, -2.8200989408733395, 4.073576825913025)\n",
    "    prec = np.where(grid[0]<lo2, prec, np.nan)\n",
    "    prec = np.where(grid[0]>=lo1, prec, np.nan)\n",
    "    prec = np.where(grid[1]<=la2, prec, np.nan)\n",
    "    prec = np.where(grid[1]>la1, prec, np.nan)\n",
    "    return prec\n",
    "\n",
    "def d64todt(dt64):\n",
    "    ts = (dt64 - np.datetime64('1970-01-01T00:00:00Z')) / np.timedelta64(1, 's')\n",
    "    return dt.datetime.utcfromtimestamp(ts)\n",
    "\n",
    "def cumsub_4d(a):\n",
    "    z = a.copy()\n",
    "    z[:,1:,:,:] -= z[:,:-1,:,:].copy()\n",
    "    return z"
   ]
  },
  {
   "cell_type": "code",
   "execution_count": null,
   "metadata": {},
   "outputs": [],
   "source": [
    "day = '20210609'\n",
    "xdata_ref = read_ref(day)"
   ]
  },
  {
   "cell_type": "code",
   "execution_count": null,
   "metadata": {},
   "outputs": [],
   "source": [
    "xdata_ref"
   ]
  },
  {
   "cell_type": "code",
   "execution_count": null,
   "metadata": {
    "tags": []
   },
   "outputs": [],
   "source": [
    "xdata_ref['TOT_PREC']"
   ]
  },
  {
   "cell_type": "code",
   "execution_count": null,
   "metadata": {
    "tags": []
   },
   "outputs": [],
   "source": [
    "tot_prec_ref = xdata_ref['TOT_PREC'].values\n",
    "type(tot_prec_ref)"
   ]
  },
  {
   "cell_type": "code",
   "execution_count": null,
   "metadata": {},
   "outputs": [],
   "source": [
    "tot_prec_ref.shape"
   ]
  },
  {
   "cell_type": "markdown",
   "metadata": {},
   "source": [
    "# Maps"
   ]
  },
  {
   "cell_type": "code",
   "execution_count": null,
   "metadata": {},
   "outputs": [],
   "source": [
    "tot_prec_ref_24h = tot_prec_ref[:,24,:,:]"
   ]
  },
  {
   "cell_type": "code",
   "execution_count": null,
   "metadata": {},
   "outputs": [],
   "source": [
    "tot_prec_ref_24h.shape"
   ]
  },
  {
   "cell_type": "code",
   "execution_count": null,
   "metadata": {},
   "outputs": [],
   "source": [
    "fig = plt.figure(figsize=(7,12))\n",
    "ax = plot_background_map()\n",
    "levels=[0.1, 0.5, 1, 5, 10, 20, 50, 100]\n",
    "im = ax.contourf(xdata_ref['rlon'], xdata_ref['rlat'], tot_prec_ref_24h[0], cmap='jet', extend='max', alpha=1, levels=levels, norm=LogNorm())\n",
    "cbar = colorbar_vert(im, fig, ax)\n",
    "cbar.minorticks_off()\n",
    "ax.set_title('Accumulated 24h precipitation, {2}-{1}-{0}, \\n member 0'.format(day[:4], day[4:6], day[6:8]), fontsize=13)\n",
    "plt.show()"
   ]
  },
  {
   "cell_type": "code",
   "execution_count": null,
   "metadata": {
    "tags": []
   },
   "outputs": [],
   "source": [
    "for mem in range(20):\n",
    "    fig = plt.figure(figsize=(7,12))\n",
    "    ax = plot_background_map()\n",
    "    levels=[0.1, 0.5, 1, 5, 10, 20, 50, 100]\n",
    "    im = ax.contourf(xdata_ref['rlon'], xdata_ref['rlat'], tot_prec_ref_24h[mem], cmap='jet', extend='max', alpha=1, levels=levels, norm=LogNorm())\n",
    "    cbar = colorbar_vert(im, fig, ax)\n",
    "    cbar.minorticks_off()\n",
    "    ax.set_title('Accumulated 24h precipitation, {2}-{1}-{0}, \\n member {3}'.format(day[:4], day[4:6], day[6:8], mem), fontsize=13)\n",
    "    plt.show()"
   ]
  },
  {
   "cell_type": "code",
   "execution_count": null,
   "metadata": {},
   "outputs": [],
   "source": [
    "fig = plt.figure(figsize=(7,12))\n",
    "ax = plot_background_map()\n",
    "levels=[0.1, 0.5, 1, 5, 10, 20, 50, 100]\n",
    "im = ax.contourf(xdata_ref['rlon'], xdata_ref['rlat'], tot_prec_ref_24h[:].mean(axis=0), cmap='jet', extend='max', alpha=1, levels=levels, norm=LogNorm())\n",
    "cbar = colorbar_vert(im, fig, ax)\n",
    "cbar.minorticks_off()\n",
    "ax.set_title('Accumulated 24h precipitation, {2}-{1}-{0}, \\n ensemble mean'.format(day[:4], day[4:6], day[6:8]), fontsize=13)\n",
    "plt.show()"
   ]
  },
  {
   "cell_type": "markdown",
   "metadata": {},
   "source": [
    "# Time series"
   ]
  },
  {
   "cell_type": "code",
   "execution_count": null,
   "metadata": {},
   "outputs": [],
   "source": [
    "tot_prec_ref.shape"
   ]
  },
  {
   "cell_type": "code",
   "execution_count": null,
   "metadata": {},
   "outputs": [],
   "source": [
    "tot_prec_ref.mean(axis=(2,3)).shape"
   ]
  },
  {
   "cell_type": "code",
   "execution_count": null,
   "metadata": {},
   "outputs": [],
   "source": [
    "plt.plot(tot_prec_ref.mean(axis=(2,3)).T)\n",
    "plt.show()"
   ]
  },
  {
   "cell_type": "code",
   "execution_count": null,
   "metadata": {},
   "outputs": [],
   "source": [
    "band_ref=np.quantile(np.nanmean(tot_prec_ref, axis=(2,3)), (0.25,0.5,0.75), axis=0)\n",
    "plt.fill_between(range(25), y1=band_ref[0,:], y2=band_ref[2,:], alpha=0.2, zorder=0, color='red')\n",
    "plt.plot(tot_prec_ref.mean(axis=(2,3)).T, color='k', alpha=0.1)\n",
    "plt.plot(tot_prec_ref.mean(axis=(0,2,3)), color='k', alpha=1)\n",
    "plt.title('Domain averaged accumulated precipitation, \\n {2}-{1}-{0}'.format(day[:4], day[4:6], day[6:8]), fontsize=13)\n",
    "plt.xlabel('Forecast lead time [h]')\n",
    "plt.ylabel('Precipitation [mm]')\n",
    "plt.show()"
   ]
  },
  {
   "cell_type": "code",
   "execution_count": null,
   "metadata": {},
   "outputs": [],
   "source": [
    "prec_ref = cumsub_4d(tot_prec_ref)\n",
    "prec_ref.shape"
   ]
  },
  {
   "cell_type": "code",
   "execution_count": null,
   "metadata": {},
   "outputs": [],
   "source": [
    "band_ref=np.quantile(np.nanmean(prec_ref, axis=(2,3)), (0.25,0.5,0.75), axis=0)\n",
    "plt.fill_between(range(25), y1=band_ref[0,:], y2=band_ref[2,:], alpha=0.2, zorder=0, color='red')\n",
    "plt.plot(prec_ref.mean(axis=(2,3)).T, color='k', alpha=0.1)\n",
    "plt.plot(prec_ref.mean(axis=(0,2,3)), color='k', alpha=1)\n",
    "plt.title('Domain averaged hourly precipitation, \\n {2}-{1}-{0}'.format(day[:4], day[4:6], day[6:8]), fontsize=13)\n",
    "plt.xlabel('Forecast lead time [h]')\n",
    "plt.ylabel('Precipitation [mm]')\n",
    "plt.show()"
   ]
  },
  {
   "cell_type": "code",
   "execution_count": null,
   "metadata": {},
   "outputs": [],
   "source": [
    "times = xdata_ref['time'].values\n",
    "times_labels = [d64todt(t).strftime(\"%H\") for t in times]"
   ]
  },
  {
   "cell_type": "code",
   "execution_count": null,
   "metadata": {},
   "outputs": [],
   "source": [
    "band_ref=np.quantile(np.nanmean(prec_ref, axis=(2,3)), (0.25,0.5,0.75), axis=0)\n",
    "plt.fill_between(times, y1=band_ref[0,:], y2=band_ref[2,:], alpha=0.2, zorder=0, color='red')\n",
    "plt.plot(times, prec_ref.mean(axis=(2,3)).T, color='k', alpha=0.1)\n",
    "plt.plot(times, prec_ref.mean(axis=(0,2,3)), color='k', alpha=1)\n",
    "plt.xticks(times[::3], times_labels[::3])\n",
    "plt.title('Domain averaged hourly precipitation, \\n {2}-{1}-{0}'.format(day[:4], day[4:6], day[6:8]), fontsize=13)\n",
    "plt.xlabel('UTC time [h]')\n",
    "plt.ylabel('Precipitation [mm]')\n",
    "plt.show()"
   ]
  },
  {
   "cell_type": "markdown",
   "metadata": {},
   "source": [
    "# Domain selection"
   ]
  },
  {
   "cell_type": "code",
   "execution_count": null,
   "metadata": {},
   "outputs": [],
   "source": [
    "tot_prec_ref.shape"
   ]
  },
  {
   "cell_type": "code",
   "execution_count": null,
   "metadata": {},
   "outputs": [],
   "source": [
    "lats = np.asarray(xdata_ref['rlat'].values)\n",
    "lons = np.asarray(xdata_ref['rlon'].values)\n",
    "lon_grid, lat_grid = np.meshgrid(lons, lats)"
   ]
  },
  {
   "cell_type": "code",
   "execution_count": null,
   "metadata": {},
   "outputs": [],
   "source": [
    "tot_prec_ref_DE = set_domain(xdata_ref['TOT_PREC'].values, (lon_grid, lat_grid))\n",
    "tot_prec_ref_DE.shape"
   ]
  },
  {
   "cell_type": "code",
   "execution_count": null,
   "metadata": {},
   "outputs": [],
   "source": [
    "fig = plt.figure(figsize=(7,12))\n",
    "ax = plot_background_map()\n",
    "levels=[0.1, 0.5, 1, 5, 10, 20, 50, 100]\n",
    "im = ax.contourf(xdata_ref['rlon'], xdata_ref['rlat'], tot_prec_ref_DE[:,-1,:,:].mean(axis=0), cmap='jet', extend='max', alpha=1, levels=levels, norm=LogNorm())\n",
    "cbar = colorbar_vert(im, fig, ax)\n",
    "cbar.minorticks_off()\n",
    "ax.set_title('Accumulated 24h precipitation, {2}-{1}-{0}, \\n ensemble mean'.format(day[:4], day[4:6], day[6:8]), fontsize=13)\n",
    "plt.show()"
   ]
  },
  {
   "cell_type": "code",
   "execution_count": null,
   "metadata": {},
   "outputs": [],
   "source": [
    "prec_ref_DE = cumsub_4d(tot_prec_ref_DE)\n",
    "prec_ref_DE.shape"
   ]
  },
  {
   "cell_type": "code",
   "execution_count": null,
   "metadata": {},
   "outputs": [],
   "source": [
    "times = xdata_ref['time'].values\n",
    "times_labels = [d64todt(t).strftime(\"%H\") for t in times]"
   ]
  },
  {
   "cell_type": "code",
   "execution_count": null,
   "metadata": {},
   "outputs": [],
   "source": [
    "band_ref=np.quantile(np.nanmean(prec_ref_DE, axis=(2,3)), (0.25,0.5,0.75), axis=0)\n",
    "plt.fill_between(times, y1=band_ref[0,:], y2=band_ref[2,:], alpha=0.2, zorder=0, color='red')\n",
    "plt.plot(times, np.nanmean(prec_ref_DE, axis=(2,3)).T, color='k', alpha=0.1)\n",
    "plt.plot(times, np.nanmean(prec_ref_DE, axis=(0,2,3)), color='k', alpha=1)\n",
    "plt.xticks(times[::3], times_labels[::3])\n",
    "plt.title('Domain averaged hourly precipitation, \\n {2}-{1}-{0}'.format(day[:4], day[4:6], day[6:8]), fontsize=13)\n",
    "plt.xlabel('UTC time [h]')\n",
    "plt.ylabel('Precipitation [mm]')\n",
    "plt.show()"
   ]
  },
  {
   "cell_type": "markdown",
   "metadata": {},
   "source": [
    "# Radar data"
   ]
  },
  {
   "cell_type": "code",
   "execution_count": null,
   "metadata": {},
   "outputs": [],
   "source": [
    "from enstools.io import read\n",
    "import wradlib as wrl"
   ]
  },
  {
   "cell_type": "code",
   "execution_count": null,
   "metadata": {},
   "outputs": [],
   "source": [
    "def get_radar_data(day):\n",
    "    loc='/archive/meteo/external-obs/dwd/radar/radolan_RY_gridded-native_rolling/latest/'\n",
    "    rydata=!ls -d {loc}/radolan_EY_{day}*.nc\n",
    "    data=read(rydata)\n",
    "\n",
    "    def cutry(domain,datain):\n",
    "        ds_prcp=datain\n",
    "        if domain == 'full':\n",
    "            ds_prcp=ds_prcp.where( ds_prcp.lat > 43.19, drop=True)\n",
    "            ds_prcp=ds_prcp.where( ds_prcp.lat <= 58.09, drop=True)\n",
    "            ds_prcp=ds_prcp.where( ds_prcp.lon >= -3.99,drop=True)\n",
    "            ds_prcp=ds_prcp.where( ds_prcp.lon < 20.32,drop=True)\n",
    "        if domain == 'DE':\n",
    "            ds_prcp=ds_prcp.where( ds_prcp.lat > 47.093, drop=True)\n",
    "            ds_prcp=ds_prcp.where( ds_prcp.lat <= 53.95, drop=True)\n",
    "            ds_prcp=ds_prcp.where( ds_prcp.lon >= 4.40,drop=True)\n",
    "            ds_prcp=ds_prcp.where( ds_prcp.lon < 14.368,drop=True)\n",
    "        return ds_prcp\n",
    "\n",
    "    de_ry=cutry(\"DE\",data)\n",
    "    full_ry=cutry(\"full\",data)\n",
    "\n",
    "    de_me=np.nanmean(de_ry[\"pr\"].values, axis=(1,2))*300\n",
    "    hrly_de=np.reshape(de_me, (24, 12))\n",
    "    hrly_de_sum=np.sum(hrly_de,axis=1)\n",
    "\n",
    "    return hrly_de_sum, np.nansum(np.asarray(full_ry['pr']), axis=0)"
   ]
  },
  {
   "cell_type": "code",
   "execution_count": null,
   "metadata": {},
   "outputs": [],
   "source": [
    "hrly_de_sum, radar_sum = get_radar_data(day)"
   ]
  },
  {
   "cell_type": "code",
   "execution_count": null,
   "metadata": {},
   "outputs": [],
   "source": [
    "radolan_grid_ll = wrl.georef.get_radolan_grid(900,900, wgs84=True)"
   ]
  },
  {
   "cell_type": "code",
   "execution_count": null,
   "metadata": {},
   "outputs": [],
   "source": [
    "rad_lon = radolan_grid_ll[:,:,0]\n",
    "rad_lat = radolan_grid_ll[:,:,1]\n",
    "lon_grid, lat_grid = rad_lon, rad_lat"
   ]
  },
  {
   "cell_type": "code",
   "execution_count": null,
   "metadata": {},
   "outputs": [],
   "source": [
    "radar_sum.shape"
   ]
  },
  {
   "cell_type": "code",
   "execution_count": null,
   "metadata": {},
   "outputs": [],
   "source": [
    "fig = plt.figure(figsize=(7,12))\n",
    "ax = plot_background_map()\n",
    "levels=[0.1, 0.5, 1, 5, 10, 20, 50, 100]\n",
    "\n",
    "im = ax.contourf(lon_grid.T, lat_grid.T, radar_sum.T*300, cmap='jet', extend='max', alpha=1, levels=levels, norm=LogNorm(), transform=ccrs.PlateCarree())\n",
    "\n",
    "cbar = colorbar_vert(im, fig, ax)\n",
    "# cbar.ax.tick_params(labelsize=12)\n",
    "cbar.minorticks_off()\n",
    "\n",
    "ax.set_title('Accumulated 24h precipitation, {2}-{1}-{0} \\n radar observations'.format(day[:4], day[4:6], day[6:8]), fontsize=13)\n",
    "# plt.savefig('plots/radar/radar0906ry.png', bbox_inches=\"tight\", dpi=200)"
   ]
  },
  {
   "cell_type": "code",
   "execution_count": null,
   "metadata": {},
   "outputs": [],
   "source": [
    "hrly_de_sum"
   ]
  },
  {
   "cell_type": "code",
   "execution_count": null,
   "metadata": {},
   "outputs": [],
   "source": [
    "plt.plot(times[1:], hrly_de_sum, color='tab:blue', linewidth=5, alpha=0.2)\n",
    "plt.xticks(times[::3], times_labels[::3])\n",
    "plt.title('Domain averaged hourly precipitation, \\n {2}-{1}-{0} (radar data)'.format(day[:4], day[4:6], day[6:8]), fontsize=13)\n",
    "plt.xlabel('UTC time [h]')\n",
    "plt.ylabel('Precipitation [mm]')\n",
    "plt.show()"
   ]
  },
  {
   "cell_type": "code",
   "execution_count": null,
   "metadata": {},
   "outputs": [],
   "source": [
    "band_ref=np.quantile(np.nanmean(prec_ref_DE, axis=(2,3)), (0.25,0.5,0.75), axis=0)\n",
    "plt.fill_between(times, y1=band_ref[0,:], y2=band_ref[2,:], alpha=0.2, zorder=0, color='grey')\n",
    "plt.plot(times, np.nanmean(prec_ref_DE, axis=(0,2,3)), color='k', alpha=1, label='ref')\n",
    "plt.plot(times[1:], hrly_de_sum, color='tab:blue', linewidth=5, alpha=0.2, label='radar')\n",
    "plt.xticks(times[::3], times_labels[::3])\n",
    "plt.title('Domain averaged hourly precipitation, \\n {2}-{1}-{0}'.format(day[:4], day[4:6], day[6:8]), fontsize=13)\n",
    "plt.xlabel('UTC time [h]')\n",
    "plt.ylabel('Precipitation [mm]')\n",
    "plt.legend()\n",
    "plt.show()"
   ]
  },
  {
   "cell_type": "code",
   "execution_count": null,
   "metadata": {},
   "outputs": [],
   "source": [
    "day = '20210609'\n",
    "xdata_psp = read_psp(day)\n",
    "lats = np.asarray(xdata_psp['rlat'].values)\n",
    "lons = np.asarray(xdata_psp['rlon'].values)\n",
    "lon_grid, lat_grid = np.meshgrid(lons, lats)\n",
    "tot_prec_psp_DE = set_domain(xdata_psp['TOT_PREC'].values, (lon_grid, lat_grid))\n",
    "prec_psp_DE = cumsub_4d(tot_prec_psp_DE)"
   ]
  },
  {
   "cell_type": "code",
   "execution_count": null,
   "metadata": {},
   "outputs": [],
   "source": [
    "band_ref=np.quantile(np.nanmean(prec_ref_DE, axis=(2,3)), (0.25,0.5,0.75), axis=0)\n",
    "band_psp=np.quantile(np.nanmean(prec_psp_DE, axis=(2,3)), (0.25,0.5,0.75), axis=0)\n",
    "plt.fill_between(times, y1=band_ref[0,:], y2=band_ref[2,:], alpha=0.2, zorder=0, color='grey')\n",
    "plt.plot(times, np.nanmean(prec_ref_DE, axis=(0,2,3)), color='k', alpha=1, label='ref')\n",
    "plt.fill_between(times, y1=band_psp[0,:], y2=band_psp[2,:], alpha=0.2, zorder=0, color='tab:red')\n",
    "plt.plot(times, np.nanmean(prec_psp_DE, axis=(0,2,3)), color='red', alpha=1, label='psp')\n",
    "plt.plot(times[1:], hrly_de_sum, color='tab:blue', linewidth=5, alpha=0.2, label='radar')\n",
    "plt.xticks(times[::3], times_labels[::3])\n",
    "plt.title('Domain averaged hourly precipitation, \\n {2}-{1}-{0}'.format(day[:4], day[4:6], day[6:8]), fontsize=13)\n",
    "plt.xlabel('UTC time [h]')\n",
    "plt.ylabel('Precipitation [mm]')\n",
    "plt.legend()\n",
    "plt.show()"
   ]
  },
  {
   "cell_type": "markdown",
   "metadata": {},
   "source": [
    "# Task 1"
   ]
  },
  {
   "cell_type": "markdown",
   "metadata": {},
   "source": [
    "Write a function called \"plotting_function\" that takes as argument a string of format 'YYYYMMDD' and produces the figure above. \\\n",
    "The function has to read the data (reference, psp and radar) for any day in June, July and August 2021."
   ]
  },
  {
   "cell_type": "code",
   "execution_count": null,
   "metadata": {},
   "outputs": [],
   "source": [
    "def plotting_function(day_yyyymmdd):\n",
    "    \n",
    "    # WRITE \n",
    "    # FUNCTION\n",
    "    # HERE\n",
    "    \n",
    "    return 0"
   ]
  },
  {
   "cell_type": "code",
   "execution_count": null,
   "metadata": {
    "tags": []
   },
   "outputs": [],
   "source": [
    "plt.rcParams['figure.figsize'] = [5.5,4]\n",
    "\n",
    "day = '20210609'\n",
    "\n",
    "plotting_function(day)\n",
    "\n",
    "plt.savefig('/project/meteo/work/M.Puh/Hands_on/plots/time_series_{0}.png'.format(day), bbox_inches=\"tight\", dpi=200)"
   ]
  },
  {
   "cell_type": "markdown",
   "metadata": {},
   "source": [
    "# Task 2"
   ]
  },
  {
   "cell_type": "markdown",
   "metadata": {},
   "source": [
    "Now write a loop over a whole month, producing a figure like above for every day."
   ]
  },
  {
   "cell_type": "code",
   "execution_count": null,
   "metadata": {},
   "outputs": [],
   "source": [
    "plt.rcParams['figure.figsize'] = [5.5,4]\n",
    "\n",
    "for day in ...:\n",
    "\n",
    "    plotting_function(day)\n",
    "\n",
    "    plt.savefig('/project/meteo/work/M.Puh/Hands_on/plots/time_series_{0}.png'.format(day), bbox_inches=\"tight\", dpi=200)"
   ]
  },
  {
   "cell_type": "markdown",
   "metadata": {},
   "source": [
    "# Task 3"
   ]
  },
  {
   "cell_type": "markdown",
   "metadata": {},
   "source": [
    "Produce maps of the total daily accumulated precipitation (ensemble mean) of the reference and psp experiments for the whole period (choose a month).\n",
    "\n",
    "!! **REMINDER**: uncomment \"set_extent\" line in \"plot_background_map\" function before."
   ]
  },
  {
   "cell_type": "code",
   "execution_count": null,
   "metadata": {},
   "outputs": [],
   "source": [
    "fig = plt.figure(figsize=(7,12))\n",
    "\n",
    "exp = 'ref'\n",
    "# exp = 'psp'\n",
    "\n",
    "for day in ...:\n",
    "\n",
    "    \n",
    "\n",
    "    plt.savefig('/project/meteo/work/M.Puh/Hands_on/plots/map24h_{0}_{1}.png'.format(exp, day), bbox_inches=\"tight\", dpi=200)"
   ]
  },
  {
   "cell_type": "markdown",
   "metadata": {},
   "source": [
    "# Task 4"
   ]
  },
  {
   "cell_type": "markdown",
   "metadata": {},
   "source": [
    "Produce maps of the total daily accumulated precipitation (for all the single members) of the reference and psp experiments for the whole period (choose a month)."
   ]
  },
  {
   "cell_type": "code",
   "execution_count": null,
   "metadata": {},
   "outputs": [],
   "source": [
    "fig = plt.figure(figsize=(7,12))\n",
    "\n",
    "exp = 'ref'\n",
    "# exp = 'psp'\n",
    "\n",
    "for day in ...:\n",
    "    \n",
    "    for member in range(20):\n",
    "\n",
    "    \n",
    "\n",
    "        plt.savefig('/project/meteo/work/M.Puh/Hands_on/plots/map24h_{0}_{1}_mem{2}.png'.format(exp, day, member), bbox_inches=\"tight\", dpi=200)"
   ]
  },
  {
   "cell_type": "markdown",
   "metadata": {},
   "source": [
    "# Task 5"
   ]
  },
  {
   "cell_type": "markdown",
   "metadata": {},
   "source": [
    "Produce maps of the total daily accumulated precipitation estimated from radar observations for the whole period (choose a month)."
   ]
  },
  {
   "cell_type": "code",
   "execution_count": null,
   "metadata": {},
   "outputs": [],
   "source": [
    "fig = plt.figure(figsize=(7,12))\n",
    "\n",
    "exp = 'ref'\n",
    "# exp = 'psp'\n",
    "\n",
    "for day in ...:\n",
    "\n",
    "    \n",
    "\n",
    "    plt.savefig('/project/meteo/work/M.Puh/Hands_on/plots/radar24h_{0}_{1}.png'.format(exp, day), bbox_inches=\"tight\", dpi=200)"
   ]
  }
 ],
 "metadata": {
  "kernelspec": {
   "display_name": "Python 3",
   "language": "python",
   "name": "python3"
  },
  "language_info": {
   "codemirror_mode": {
    "name": "ipython",
    "version": 3
   },
   "file_extension": ".py",
   "mimetype": "text/x-python",
   "name": "python",
   "nbconvert_exporter": "python",
   "pygments_lexer": "ipython3",
   "version": "3.7.3"
  }
 },
 "nbformat": 4,
 "nbformat_minor": 4
}
